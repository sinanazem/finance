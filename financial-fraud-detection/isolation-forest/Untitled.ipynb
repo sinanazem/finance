{
 "cells": [
  {
   "cell_type": "code",
   "execution_count": 1,
   "id": "f6d72c66",
   "metadata": {},
   "outputs": [],
   "source": [
    "import pandas as pd\n",
    "from sklearn.model_selection import train_test_split\n",
    "\n",
    "def split_data(data_path, test_size=0.2, val_size=0.25, random_state=42):\n",
    "    # Load the dataset into a DataFrame\n",
    "    data = pd.read_csv(data_path)\n",
    "\n",
    "    # Split the data into features (X) and target variable (y)\n",
    "    X = data.drop('fraud_label', axis=1)\n",
    "    y = data['fraud_label']\n",
    "\n",
    "    # Split the data into training, validation, and test sets\n",
    "    X_train, X_test, y_train, y_test = train_test_split(X, y, test_size=test_size, random_state=random_state)\n",
    "    X_train, X_val, y_train, y_val = train_test_split(X_train, y_train, test_size=val_size, random_state=random_state)\n",
    "\n",
    "    # Return the split datasets\n",
    "    return X_train, X_val, X_test, y_train, y_val, y_test\n"
   ]
  },
  {
   "cell_type": "code",
   "execution_count": null,
   "id": "e2dcf620",
   "metadata": {},
   "outputs": [],
   "source": [
    "# Example usage\n",
    "data_path = 'fraud_data.csv'\n",
    "X_train, X_val, X_test, y_train, y_val, y_test = split_data(data_path)\n",
    "\n",
    "# Print the shape of each set\n",
    "print(\"Training set shape:\", X_train.shape, y_train.shape)\n",
    "print(\"Validation set shape:\", X_val.shape, y_val.shape)\n",
    "print(\"Test set shape:\", X_test.shape, y_test.shape)"
   ]
  }
 ],
 "metadata": {
  "kernelspec": {
   "display_name": "Python 3 (ipykernel)",
   "language": "python",
   "name": "python3"
  },
  "language_info": {
   "codemirror_mode": {
    "name": "ipython",
    "version": 3
   },
   "file_extension": ".py",
   "mimetype": "text/x-python",
   "name": "python",
   "nbconvert_exporter": "python",
   "pygments_lexer": "ipython3",
   "version": "3.10.9"
  }
 },
 "nbformat": 4,
 "nbformat_minor": 5
}
