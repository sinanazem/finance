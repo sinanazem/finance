{
 "cells": [
  {
   "cell_type": "code",
   "execution_count": 1,
   "id": "cd1ac434",
   "metadata": {},
   "outputs": [],
   "source": [
    "import pandas as pd\n",
    "import matplotlib.pyplot as plt\n",
    "import seaborn as sns\n",
    "import numpy as np\n",
    "from pathlib import Path\n",
    "\n",
    "from sklearn.model_selection import train_test_split\n",
    "from sklearn.preprocessing import StandardScaler\n",
    "from sklearn.neighbors import LocalOutlierFactor\n",
    "from sklearn.preprocessing import LabelEncoder\n",
    "from imblearn.over_sampling import SMOTE\n",
    "from scipy.stats import zscore\n",
    "from sklearn.metrics import classification_report, confusion_matrix\n",
    "from sklearn.decomposition import PCA\n",
    "from sklearn.manifold import TSNE\n",
    "from pyod.models.lof import LOF\n",
    "import math\n",
    "import warnings\n",
    "warnings.filterwarnings('ignore')"
   ]
  },
  {
   "cell_type": "code",
   "execution_count": 2,
   "id": "01f65586",
   "metadata": {},
   "outputs": [],
   "source": [
    "DATA_DIR = 'C:/Users/user/OneDrive/Desktop/finance-data'"
   ]
  },
  {
   "cell_type": "code",
   "execution_count": 3,
   "id": "62ce14ec",
   "metadata": {},
   "outputs": [],
   "source": [
    "transaction_df = pd.read_csv(DATA_DIR+'/PS_20174392719_1491204439457_log.csv')\n",
    "transaction_df = transaction_df[transaction_df['type'].isin(['TRANSFER', 'CASH_OUT'])].reset_index().drop(columns=['index'])\n",
    "\n",
    "indep_var = [\n",
    "    \"step\",\n",
    "    \"amount\",\n",
    "    \"oldbalanceOrg\",\n",
    "    \"newbalanceOrig\",\n",
    "    \"oldbalanceDest\",\n",
    "    \"newbalanceDest\",  \n",
    "]\n",
    "\n",
    "dep_var = 'isFraud'\n",
    "\n",
    "\n",
    "X = transaction_df[indep_var]\n",
    "y = transaction_df[dep_var]"
   ]
  },
  {
   "cell_type": "code",
   "execution_count": 4,
   "id": "91879226",
   "metadata": {},
   "outputs": [
    {
     "data": {
      "text/html": [
       "<style type=\"text/css\">\n",
       "#T_d9c4f_row4_col1, #T_d9c4f_row8_col1 {\n",
       "  background-color: lightgreen;\n",
       "}\n",
       "</style>\n",
       "<table id=\"T_d9c4f\">\n",
       "  <thead>\n",
       "    <tr>\n",
       "      <th class=\"blank level0\" >&nbsp;</th>\n",
       "      <th id=\"T_d9c4f_level0_col0\" class=\"col_heading level0 col0\" >Description</th>\n",
       "      <th id=\"T_d9c4f_level0_col1\" class=\"col_heading level0 col1\" >Value</th>\n",
       "    </tr>\n",
       "  </thead>\n",
       "  <tbody>\n",
       "    <tr>\n",
       "      <th id=\"T_d9c4f_level0_row0\" class=\"row_heading level0 row0\" >0</th>\n",
       "      <td id=\"T_d9c4f_row0_col0\" class=\"data row0 col0\" >Session id</td>\n",
       "      <td id=\"T_d9c4f_row0_col1\" class=\"data row0 col1\" >123</td>\n",
       "    </tr>\n",
       "    <tr>\n",
       "      <th id=\"T_d9c4f_level0_row1\" class=\"row_heading level0 row1\" >1</th>\n",
       "      <td id=\"T_d9c4f_row1_col0\" class=\"data row1 col0\" >Original data shape</td>\n",
       "      <td id=\"T_d9c4f_row1_col1\" class=\"data row1 col1\" >(2770409, 6)</td>\n",
       "    </tr>\n",
       "    <tr>\n",
       "      <th id=\"T_d9c4f_level0_row2\" class=\"row_heading level0 row2\" >2</th>\n",
       "      <td id=\"T_d9c4f_row2_col0\" class=\"data row2 col0\" >Transformed data shape</td>\n",
       "      <td id=\"T_d9c4f_row2_col1\" class=\"data row2 col1\" >(2770409, 6)</td>\n",
       "    </tr>\n",
       "    <tr>\n",
       "      <th id=\"T_d9c4f_level0_row3\" class=\"row_heading level0 row3\" >3</th>\n",
       "      <td id=\"T_d9c4f_row3_col0\" class=\"data row3 col0\" >Numeric features</td>\n",
       "      <td id=\"T_d9c4f_row3_col1\" class=\"data row3 col1\" >6</td>\n",
       "    </tr>\n",
       "    <tr>\n",
       "      <th id=\"T_d9c4f_level0_row4\" class=\"row_heading level0 row4\" >4</th>\n",
       "      <td id=\"T_d9c4f_row4_col0\" class=\"data row4 col0\" >Preprocess</td>\n",
       "      <td id=\"T_d9c4f_row4_col1\" class=\"data row4 col1\" >True</td>\n",
       "    </tr>\n",
       "    <tr>\n",
       "      <th id=\"T_d9c4f_level0_row5\" class=\"row_heading level0 row5\" >5</th>\n",
       "      <td id=\"T_d9c4f_row5_col0\" class=\"data row5 col0\" >Imputation type</td>\n",
       "      <td id=\"T_d9c4f_row5_col1\" class=\"data row5 col1\" >simple</td>\n",
       "    </tr>\n",
       "    <tr>\n",
       "      <th id=\"T_d9c4f_level0_row6\" class=\"row_heading level0 row6\" >6</th>\n",
       "      <td id=\"T_d9c4f_row6_col0\" class=\"data row6 col0\" >Numeric imputation</td>\n",
       "      <td id=\"T_d9c4f_row6_col1\" class=\"data row6 col1\" >mean</td>\n",
       "    </tr>\n",
       "    <tr>\n",
       "      <th id=\"T_d9c4f_level0_row7\" class=\"row_heading level0 row7\" >7</th>\n",
       "      <td id=\"T_d9c4f_row7_col0\" class=\"data row7 col0\" >Categorical imputation</td>\n",
       "      <td id=\"T_d9c4f_row7_col1\" class=\"data row7 col1\" >mode</td>\n",
       "    </tr>\n",
       "    <tr>\n",
       "      <th id=\"T_d9c4f_level0_row8\" class=\"row_heading level0 row8\" >8</th>\n",
       "      <td id=\"T_d9c4f_row8_col0\" class=\"data row8 col0\" >Normalize</td>\n",
       "      <td id=\"T_d9c4f_row8_col1\" class=\"data row8 col1\" >True</td>\n",
       "    </tr>\n",
       "    <tr>\n",
       "      <th id=\"T_d9c4f_level0_row9\" class=\"row_heading level0 row9\" >9</th>\n",
       "      <td id=\"T_d9c4f_row9_col0\" class=\"data row9 col0\" >Normalize method</td>\n",
       "      <td id=\"T_d9c4f_row9_col1\" class=\"data row9 col1\" >zscore</td>\n",
       "    </tr>\n",
       "    <tr>\n",
       "      <th id=\"T_d9c4f_level0_row10\" class=\"row_heading level0 row10\" >10</th>\n",
       "      <td id=\"T_d9c4f_row10_col0\" class=\"data row10 col0\" >CPU Jobs</td>\n",
       "      <td id=\"T_d9c4f_row10_col1\" class=\"data row10 col1\" >-1</td>\n",
       "    </tr>\n",
       "    <tr>\n",
       "      <th id=\"T_d9c4f_level0_row11\" class=\"row_heading level0 row11\" >11</th>\n",
       "      <td id=\"T_d9c4f_row11_col0\" class=\"data row11 col0\" >Use GPU</td>\n",
       "      <td id=\"T_d9c4f_row11_col1\" class=\"data row11 col1\" >False</td>\n",
       "    </tr>\n",
       "    <tr>\n",
       "      <th id=\"T_d9c4f_level0_row12\" class=\"row_heading level0 row12\" >12</th>\n",
       "      <td id=\"T_d9c4f_row12_col0\" class=\"data row12 col0\" >Log Experiment</td>\n",
       "      <td id=\"T_d9c4f_row12_col1\" class=\"data row12 col1\" >False</td>\n",
       "    </tr>\n",
       "    <tr>\n",
       "      <th id=\"T_d9c4f_level0_row13\" class=\"row_heading level0 row13\" >13</th>\n",
       "      <td id=\"T_d9c4f_row13_col0\" class=\"data row13 col0\" >Experiment Name</td>\n",
       "      <td id=\"T_d9c4f_row13_col1\" class=\"data row13 col1\" >anomaly-default-name</td>\n",
       "    </tr>\n",
       "    <tr>\n",
       "      <th id=\"T_d9c4f_level0_row14\" class=\"row_heading level0 row14\" >14</th>\n",
       "      <td id=\"T_d9c4f_row14_col0\" class=\"data row14 col0\" >USI</td>\n",
       "      <td id=\"T_d9c4f_row14_col1\" class=\"data row14 col1\" >b589</td>\n",
       "    </tr>\n",
       "  </tbody>\n",
       "</table>\n"
      ],
      "text/plain": [
       "<pandas.io.formats.style.Styler at 0x1216807b1c0>"
      ]
     },
     "metadata": {},
     "output_type": "display_data"
    }
   ],
   "source": [
    "from pycaret.anomaly import *\n",
    "\n",
    "exp_ano101 = setup(X, normalize = True, \n",
    "                   session_id = 123)"
   ]
  },
  {
   "cell_type": "code",
   "execution_count": 5,
   "id": "20f84b1f",
   "metadata": {},
   "outputs": [
    {
     "data": {
      "text/html": [],
      "text/plain": [
       "<IPython.core.display.HTML object>"
      ]
     },
     "metadata": {},
     "output_type": "display_data"
    },
    {
     "data": {
      "text/html": [],
      "text/plain": [
       "<IPython.core.display.HTML object>"
      ]
     },
     "metadata": {},
     "output_type": "display_data"
    },
    {
     "data": {
      "application/vnd.jupyter.widget-view+json": {
       "model_id": "",
       "version_major": 2,
       "version_minor": 0
      },
      "text/plain": [
       "Processing:   0%|          | 0/3 [00:00<?, ?it/s]"
      ]
     },
     "metadata": {},
     "output_type": "display_data"
    }
   ],
   "source": [
    "iforest_pycaret = create_model('iforest')"
   ]
  },
  {
   "cell_type": "code",
   "execution_count": 6,
   "id": "a5946a92",
   "metadata": {},
   "outputs": [
    {
     "ename": "NameError",
     "evalue": "name 'lof_pycaret' is not defined",
     "output_type": "error",
     "traceback": [
      "\u001b[1;31m---------------------------------------------------------------------------\u001b[0m",
      "\u001b[1;31mNameError\u001b[0m                                 Traceback (most recent call last)",
      "Cell \u001b[1;32mIn[6], line 1\u001b[0m\n\u001b[1;32m----> 1\u001b[0m iforest_results \u001b[38;5;241m=\u001b[39m assign_model(\u001b[43mlof_pycaret\u001b[49m)\n\u001b[0;32m      2\u001b[0m iforest_results\u001b[38;5;241m.\u001b[39mhead()\n",
      "\u001b[1;31mNameError\u001b[0m: name 'lof_pycaret' is not defined"
     ]
    }
   ],
   "source": [
    "iforest_results = assign_model(lof_pycaret)\n",
    "iforest_results.head()"
   ]
  },
  {
   "cell_type": "code",
   "execution_count": null,
   "id": "8388c924",
   "metadata": {},
   "outputs": [],
   "source": [
    "iforest_results['Anomaly'].sum()"
   ]
  },
  {
   "cell_type": "code",
   "execution_count": null,
   "id": "8a51c77e",
   "metadata": {},
   "outputs": [],
   "source": [
    "X['is_fraud'] = y\n",
    "X['iforest_anomaly'] = iforest_results['Anomaly']"
   ]
  },
  {
   "cell_type": "code",
   "execution_count": null,
   "id": "79f3a5dc",
   "metadata": {},
   "outputs": [],
   "source": [
    "X[(X['is_fraud'] == 1) & (X['iforest_anomaly'] == 1)]"
   ]
  },
  {
   "cell_type": "code",
   "execution_count": null,
   "id": "50fadf61",
   "metadata": {},
   "outputs": [],
   "source": [
    "#plot_model(iforest_pycaret)"
   ]
  },
  {
   "cell_type": "code",
   "execution_count": null,
   "id": "55484c36",
   "metadata": {},
   "outputs": [],
   "source": []
  },
  {
   "cell_type": "code",
   "execution_count": null,
   "id": "f19ae6b2",
   "metadata": {},
   "outputs": [],
   "source": []
  },
  {
   "cell_type": "code",
   "execution_count": null,
   "id": "f43fdec3",
   "metadata": {},
   "outputs": [],
   "source": []
  }
 ],
 "metadata": {
  "kernelspec": {
   "display_name": "Python 3 (ipykernel)",
   "language": "python",
   "name": "python3"
  },
  "language_info": {
   "codemirror_mode": {
    "name": "ipython",
    "version": 3
   },
   "file_extension": ".py",
   "mimetype": "text/x-python",
   "name": "python",
   "nbconvert_exporter": "python",
   "pygments_lexer": "ipython3",
   "version": "3.10.9"
  }
 },
 "nbformat": 4,
 "nbformat_minor": 5
}
